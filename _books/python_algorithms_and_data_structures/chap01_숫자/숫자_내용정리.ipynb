{
 "cells": [
  {
   "cell_type": "code",
   "execution_count": null,
   "id": "e0a34858",
   "metadata": {},
   "outputs": [],
   "source": [
    "# 1.1 정수"
   ]
  },
  {
   "cell_type": "code",
   "execution_count": 1,
   "id": "5f23603c",
   "metadata": {},
   "outputs": [
    {
     "data": {
      "text/plain": [
       "10"
      ]
     },
     "execution_count": 1,
     "metadata": {},
     "output_type": "execute_result"
    }
   ],
   "source": [
    "# 정수를 나타내는 데 필요한 바이트 수 확인\n",
    "(999).bit_length()"
   ]
  },
  {
   "cell_type": "code",
   "execution_count": 2,
   "id": "40c76709",
   "metadata": {},
   "outputs": [
    {
     "name": "stdout",
     "output_type": "stream",
     "text": [
      "11\n",
      "3\n"
     ]
    }
   ],
   "source": [
    "# 10진수로 변환\n",
    "s = '11'\n",
    "d = int(s)\n",
    "print(d)\n",
    "\n",
    "# 2진수를 10진수로 변환\n",
    "b = int(s, 2) \n",
    "print(b)"
   ]
  },
  {
   "cell_type": "code",
   "execution_count": null,
   "id": "0d55c1f0",
   "metadata": {},
   "outputs": [],
   "source": [
    "# 1.2 부동소수점"
   ]
  },
  {
   "cell_type": "code",
   "execution_count": null,
   "id": "6006c11f",
   "metadata": {},
   "outputs": [],
   "source": [
    "# 1.2.1 부동소수점끼리 비교하기"
   ]
  },
  {
   "cell_type": "code",
   "execution_count": 5,
   "id": "bb5feb3a",
   "metadata": {},
   "outputs": [
    {
     "name": "stdout",
     "output_type": "stream",
     "text": [
      "False\n",
      "True\n",
      "False\n",
      "False\n"
     ]
    }
   ],
   "source": [
    "# 부동소수점은 이진수 분수로 표현되기 때문에 함부로 비교하거나 빼면 안 된다.\n",
    "print(0.2 * 3 == 0.6)\n",
    "print(1.2 - 0.2 == 1.0)\n",
    "print(1.2 - 0.1 == 1.1)\n",
    "print(0.1 * 0.1 == 0.01)"
   ]
  },
  {
   "cell_type": "code",
   "execution_count": null,
   "id": "17f799e1",
   "metadata": {},
   "outputs": [],
   "source": [
    "# 동등성 테스트 euqality test는 사전에 정의된 정밀도 범위 내에서 수행되어야 한다.\n",
    "def a(x, y, places=7):\n",
    "    return round(abs(x-y), places) == 0"
   ]
  },
  {
   "cell_type": "code",
   "execution_count": null,
   "id": "d6e5476e",
   "metadata": {},
   "outputs": [],
   "source": [
    "# 1.2.2 정수와 부동소수점 메서드"
   ]
  },
  {
   "cell_type": "code",
   "execution_count": 6,
   "id": "1a8476b6",
   "metadata": {},
   "outputs": [
    {
     "data": {
      "text/plain": [
       "(7, 3)"
      ]
     },
     "execution_count": 6,
     "metadata": {},
     "output_type": "execute_result"
    }
   ],
   "source": [
    "# 파이썬에서 나누기 연산자 / 는 항상 부동소수점을 반환한다.\n",
    "# // 연산자 floor 또는 truncation를 사용하면 정수를 반환한다.\n",
    "# % 연산자 module 또는 remainder는 나머지를 구한다.\n",
    "# div(x, y) 메서드는 x를 y로 나눌 때, 몫과 나머지를 반환한다.\n",
    "divmod(45, 6)"
   ]
  },
  {
   "cell_type": "code",
   "execution_count": 8,
   "id": "40afffa3",
   "metadata": {},
   "outputs": [
    {
     "name": "stdout",
     "output_type": "stream",
     "text": [
      "110.0\n",
      "113.89\n"
     ]
    }
   ],
   "source": [
    "# round(x, n) 메서드는 n이 음수인 경우, x를 정수 n번째 자리에서 반올림한 값을 반환한다.\n",
    "# n이 양수인 경우, x를 소수점 이하 n번째 자리로 반올림한 값을 반환한다.\n",
    "print(round(113.886, -1))\n",
    "print(round(113.886, 2))"
   ]
  },
  {
   "cell_type": "code",
   "execution_count": 9,
   "id": "c4495f6c",
   "metadata": {},
   "outputs": [
    {
     "data": {
      "text/plain": [
       "(11, 4)"
      ]
     },
     "execution_count": 9,
     "metadata": {},
     "output_type": "execute_result"
    }
   ],
   "source": [
    "# as_integer_ratio() 메서드는 부동소수점을 분수로 표현한다.\n",
    "2.75.as_integer_ratio()"
   ]
  },
  {
   "cell_type": "code",
   "execution_count": null,
   "id": "07fdad10",
   "metadata": {},
   "outputs": [],
   "source": [
    "# 1.3 복소수"
   ]
  },
  {
   "cell_type": "code",
   "execution_count": null,
   "id": "c354dd3d",
   "metadata": {},
   "outputs": [],
   "source": [
    "# 파이썬에서 복소수 complex number는 z = 3 + 4j 와 같이 생긴 부동소수점 한 쌍을 갖는 불변형이다."
   ]
  },
  {
   "cell_type": "code",
   "execution_count": null,
   "id": "26c76df6",
   "metadata": {},
   "outputs": [],
   "source": [
    "# 1.4 fraction 모듈"
   ]
  },
  {
   "cell_type": "code",
   "execution_count": null,
   "id": "833bf415",
   "metadata": {},
   "outputs": [],
   "source": [
    "# 파이썬에서 분수를 다두려면 fraction 모듈을 사용한다.\n",
    "# 코드 예제 1_testing_float.py"
   ]
  },
  {
   "cell_type": "code",
   "execution_count": null,
   "id": "52d09329",
   "metadata": {},
   "outputs": [],
   "source": [
    "# 1.5 decimal 모듈"
   ]
  },
  {
   "cell_type": "code",
   "execution_count": null,
   "id": "d4c1875d",
   "metadata": {},
   "outputs": [],
   "source": [
    "# 정확한 10진법의 부동소수점 숫자가 필요한 경우, 부동소수점 불변 타입인 decimal.Decimal을 사용할 수 있다."
   ]
  },
  {
   "cell_type": "code",
   "execution_count": 10,
   "id": "0cb79aff",
   "metadata": {},
   "outputs": [
    {
     "data": {
      "text/plain": [
       "False"
      ]
     },
     "execution_count": 10,
     "metadata": {},
     "output_type": "execute_result"
    }
   ],
   "source": [
    "sum(0.1 for i in range(10)) == 1.0"
   ]
  },
  {
   "cell_type": "code",
   "execution_count": 11,
   "id": "ad0199a1",
   "metadata": {},
   "outputs": [
    {
     "data": {
      "text/plain": [
       "True"
      ]
     },
     "execution_count": 11,
     "metadata": {},
     "output_type": "execute_result"
    }
   ],
   "source": [
    "from decimal import Decimal\n",
    "sum(Decimal(\"0.1\") for i in range(10)) == Decimal(\"1.0\")"
   ]
  },
  {
   "cell_type": "code",
   "execution_count": null,
   "id": "c7e7fe0f",
   "metadata": {},
   "outputs": [],
   "source": [
    "# 1.6 2진수, 8진수, 16진수"
   ]
  },
  {
   "cell_type": "code",
   "execution_count": 12,
   "id": "e7c2a9ba",
   "metadata": {},
   "outputs": [
    {
     "data": {
      "text/plain": [
       "'0b1111100111'"
      ]
     },
     "execution_count": 12,
     "metadata": {},
     "output_type": "execute_result"
    }
   ],
   "source": [
    "# 2진수 문자열을 반환\n",
    "bin(999)"
   ]
  },
  {
   "cell_type": "code",
   "execution_count": 13,
   "id": "3333ea61",
   "metadata": {},
   "outputs": [
    {
     "data": {
      "text/plain": [
       "'0o1747'"
      ]
     },
     "execution_count": 13,
     "metadata": {},
     "output_type": "execute_result"
    }
   ],
   "source": [
    "# 8진수 문자열을 반환\n",
    "oct(999)"
   ]
  },
  {
   "cell_type": "code",
   "execution_count": 14,
   "id": "3fbaeda6",
   "metadata": {},
   "outputs": [
    {
     "data": {
      "text/plain": [
       "'0x3e7'"
      ]
     },
     "execution_count": 14,
     "metadata": {},
     "output_type": "execute_result"
    }
   ],
   "source": [
    "# 16진수 문자열을 반환\n",
    "hex(999)"
   ]
  }
 ],
 "metadata": {
  "kernelspec": {
   "display_name": "Python 3",
   "language": "python",
   "name": "python3"
  },
  "language_info": {
   "codemirror_mode": {
    "name": "ipython",
    "version": 3
   },
   "file_extension": ".py",
   "mimetype": "text/x-python",
   "name": "python",
   "nbconvert_exporter": "python",
   "pygments_lexer": "ipython3",
   "version": "3.8.8"
  }
 },
 "nbformat": 4,
 "nbformat_minor": 5
}
